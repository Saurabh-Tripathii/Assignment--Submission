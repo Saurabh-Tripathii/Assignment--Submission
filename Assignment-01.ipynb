{
 "cells": [
  {
   "cell_type": "markdown",
   "id": "5f21cabc",
   "metadata": {},
   "source": [
    "# Assignment 01 \n",
    "# Solutions"
   ]
  },
  {
   "cell_type": "markdown",
   "id": "1d6f5776",
   "metadata": {},
   "source": [
    "#### 1. In the below elements which of them are values or an expression? eg:- values can be integer or string and expressions will be mathematical operators."
   ]
  },
  {
   "cell_type": "markdown",
   "id": "6b09cd2a",
   "metadata": {},
   "source": [
    "*,'hello', -87.8,-,/,+,6"
   ]
  },
  {
   "cell_type": "markdown",
   "id": "55df28df",
   "metadata": {},
   "source": [
    "#### Ans.\n",
    "There are a total of 4 Operators and 3 Expressions,They are:\n",
    "Operators:    *,-,/,+\n",
    "Expressions: 'hello', 87.8, 6"
   ]
  },
  {
   "cell_type": "markdown",
   "id": "6767e924",
   "metadata": {},
   "source": [
    "#### 2.What is the difference between string and variable?\n",
    "\n",
    "##### Ans: \n",
    "A Variable is used to store of information, and a String is a type of information you would store in a Variable. A String is a group of characters or a single character usually enclosed in Double quotes \" \" or single quotes ' '"
   ]
  },
  {
   "cell_type": "markdown",
   "id": "030fdcff",
   "metadata": {},
   "source": [
    "\n",
    "\n",
    "\n"
   ]
  },
  {
   "cell_type": "markdown",
   "id": "1a067833",
   "metadata": {},
   "source": [
    "#### 3. Describe three different Data Types ?\n",
    "#### Ans:\n",
    "Three fundamental Data types in python are int, float, complex.\n",
    "\n",
    "int data type: We can use int data type to represent whole numbers (integral values)\n",
    "float data type: We can use float data type to represent floating point values (decimal values)\n",
    "complex data type: Complex number is represented by complex class. It is specified as (real part) + (imaginary part)j."
   ]
  },
  {
   "cell_type": "markdown",
   "id": "65cb9eef",
   "metadata": {},
   "source": [
    "#### 4. What is an expression made up of? What do all expressions do?\n",
    "#### Ans:\n",
    "An expression is a combination of values, variables, operators, and calls to functions. Expressions need to be evaluated. If we ask Python to print an expression, the interpreter evaluates the expression and displays the result."
   ]
  },
  {
   "cell_type": "markdown",
   "id": "cdbe25f1",
   "metadata": {},
   "source": [
    "#### 5.This assignment statements, like spam = 10. What is the difference between an expression and a statement?\n",
    "#### Ans:\n",
    "An expression is a combination of values, variables, and operators.When we type an expression at the prompt, the interpreter evaluates it, which means that it finds the value of the expression.\n",
    "\n",
    "eg: 6*9+30-50 is an example of a statement\n",
    "\n",
    "A statement is a unit of code that has an effect, like creating a variable or displaying a value.When we type a statement, the interpreter executes it, which means that it does whatever the statement says. In general, statements don’t have values.\n",
    "\n",
    "eg: variable declaration and assignment are statements because they do not return a value"
   ]
  },
  {
   "cell_type": "markdown",
   "id": "8680449f",
   "metadata": {},
   "source": [
    "#### 6.After running the following code, what does the variable bacon contain?\n",
    "bacon = 22\n",
    "bacon + 1\n",
    "\n",
    "#### Ans: \n",
    "The variable bacon is set to 22 .The expression bacon + 1 does not reassign the value in bacon (that would the case if the expression is like bacon = bacon + 1 instead of bacon + 1)"
   ]
  },
  {
   "cell_type": "markdown",
   "id": "c9a54482",
   "metadata": {},
   "source": [
    "#### 7.What should the values of the following two terms be?\n",
    "'spam'+'spamspam'\n",
    "'spam'*3\n",
    "\n",
    "#### Ans:\n",
    "Both expressions evaluate to the string 'spamspamspam' Where as the first expression follows String Concatentation and the second expression follows String Multiplication"
   ]
  },
  {
   "cell_type": "markdown",
   "id": "277b9080",
   "metadata": {},
   "source": [
    "#### 8. Why is eggs a valid variable name while 100 is invalid?\n",
    "#### Ans: \n",
    "As per python,Variable names cannot begin with a number. The python rules for naming a variable are :-\n",
    "\n",
    "Variable name must start with a letter or the underscore character.\n",
    "Variable name cannot start with a number.\n",
    "Variable name can only contain alpha-numeric characters and underscores (A-z, 0-9, & _ ).\n",
    "Variable names are case-sensitive (name, SAURABH and saurabh are three different variables).\n",
    "The reserved words(keywords) cannot be used naming the variable."
   ]
  },
  {
   "cell_type": "markdown",
   "id": "d6cf0d02",
   "metadata": {},
   "source": [
    "#### 9.What three functions can be used to get the integer,floating-point number,or string version of a value?\n",
    "#### Ans: \n",
    "The int(),float(),and str() functions will evaluate to the integer,floating-point number,string version of the value passed to them."
   ]
  },
  {
   "cell_type": "markdown",
   "id": "026d2c55",
   "metadata": {},
   "source": [
    "#### 10.Why does this expression cause an error? how can you fix it?\n",
    "'I have eaten ' + 99 + 'burritos.'\n",
    "\n",
    "#### Ans: This cause of error is 99.because 99 is not a string. 99 must be typecasted to a string to fix this error. the correct way is:\n",
    "Input: 'I have eaten ' + str(99) + 'burritos.'\n",
    "Output: 'I have eaten 99 burritos.'"
   ]
  },
  {
   "cell_type": "code",
   "execution_count": null,
   "id": "a4c755e9",
   "metadata": {},
   "outputs": [],
   "source": [
    "\n"
   ]
  }
 ],
 "metadata": {
  "kernelspec": {
   "display_name": "Python 3 (ipykernel)",
   "language": "python",
   "name": "python3"
  },
  "language_info": {
   "codemirror_mode": {
    "name": "ipython",
    "version": 3
   },
   "file_extension": ".py",
   "mimetype": "text/x-python",
   "name": "python",
   "nbconvert_exporter": "python",
   "pygments_lexer": "ipython3",
   "version": "3.9.7"
  }
 },
 "nbformat": 4,
 "nbformat_minor": 5
}
